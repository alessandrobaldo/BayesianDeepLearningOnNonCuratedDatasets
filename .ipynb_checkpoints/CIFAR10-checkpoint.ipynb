{
 "cells": [
  {
   "cell_type": "code",
   "execution_count": 1,
   "metadata": {},
   "outputs": [],
   "source": [
    "import numpy as np\n",
    "import torch\n",
    "import torchvision\n",
    "import torchvision.transforms as transforms\n",
    "import torch.optim as optim\n",
    "import torch.nn as nn\n",
    "import tqdm\n",
    "from collections import OrderedDict\n",
    "import matplotlib.pyplot as plt\n",
    "from scripts.preresnet import PreResNet\n",
    "from scripts.Metropolis import *\n",
    "from scripts.HMC import *\n",
    "from scripts.mcmc_samplers import *\n",
    "import scripts.corruptDataset\n",
    "device = \"cuda:0\" if torch.cuda.is_available() else \"cpu\""
   ]
  },
  {
   "cell_type": "markdown",
   "metadata": {},
   "source": [
    "# Training with Backpropagation"
   ]
  },
  {
   "cell_type": "code",
   "execution_count": 2,
   "metadata": {},
   "outputs": [
    {
     "name": "stdout",
     "output_type": "stream",
     "text": [
      "Files already downloaded and verified\n",
      "Files already downloaded and verified\n"
     ]
    }
   ],
   "source": [
    "transform = transforms.Compose(\n",
    "    [transforms.ToTensor(),\n",
    "     transforms.Normalize((0.5, 0.5, 0.5), (0.5, 0.5, 0.5))])\n",
    "\n",
    "trainset = torchvision.datasets.CIFAR10(root='./data', train=True,\n",
    "                                        download=True, transform=transform)\n",
    "trainloader = torch.utils.data.DataLoader(trainset, batch_size=256,\n",
    "                                          shuffle=True, num_workers=2)\n",
    "\n",
    "testset = torchvision.datasets.CIFAR10(root='./data', train=False,\n",
    "                                       download=True, transform=transform)\n",
    "testloader = torch.utils.data.DataLoader(testset, batch_size=10000,\n",
    "                                         shuffle=False, num_workers=2)\n",
    "\n",
    "classes = ('plane', 'car', 'bird', 'cat',\n",
    "           'deer', 'dog', 'frog', 'horse', 'ship', 'truck')"
   ]
  },
  {
   "cell_type": "code",
   "execution_count": null,
   "metadata": {},
   "outputs": [],
   "source": [
    "net = PreResNet(depth=20)\n",
    "net = net.to(device)\n",
    "criterion = nn.NLLLoss(reduction='sum')\n",
    "optimizer = optim.Adam(net.parameters(), lr=0.1)"
   ]
  },
  {
   "cell_type": "code",
   "execution_count": null,
   "metadata": {},
   "outputs": [],
   "source": [
    "def negative_log_prior(params):\n",
    "    regularization_term = 0\n",
    "    for name, W in params:\n",
    "        regularization_term += W.norm(2)\n",
    "    return 0.5*regularization_term"
   ]
  },
  {
   "cell_type": "code",
   "execution_count": null,
   "metadata": {},
   "outputs": [],
   "source": [
    "for epoch in tqdm.tqdm(range(100)):  # loop over the dataset multiple times\n",
    "    running_loss = 0.0\n",
    "    for i, data in enumerate(trainloader, 0):\n",
    "        # get the inputs; data is a list of [inputs, labels]\n",
    "        inputs, labels = data\n",
    "        inputs = inputs.cuda()\n",
    "        labels = labels.cuda()\n",
    "\n",
    "        optimizer.zero_grad()\n",
    "\n",
    "        outputs = net(inputs, log_softmax=True)\n",
    "        loss = criterion(outputs, labels)+negative_log_prior(net.named_parameters())\n",
    "        loss.backward()\n",
    "        optimizer.step()\n",
    "\n",
    "        running_loss += loss.item()\n",
    "        if i % 2000 == 1999:    # print every 2000 mini-batches\n",
    "            print('[%d, %5d] loss: %.3f' %\n",
    "                  (epoch + 1, i + 1, running_loss / 2000))\n",
    "            running_loss = 0.0\n",
    "        break"
   ]
  },
  {
   "cell_type": "code",
   "execution_count": null,
   "metadata": {},
   "outputs": [],
   "source": [
    "correct = 0\n",
    "total = 0\n",
    "with torch.no_grad():\n",
    "    for data in testloader:\n",
    "        images, labels = data\n",
    "        images = images.to(device)\n",
    "        labels = labels.to(device)\n",
    "        outputs = net(images,log_softmax=True)\n",
    "        _, predicted = torch.max(outputs.data, 1)\n",
    "        total += labels.size(0)\n",
    "        correct += (predicted == labels).sum().item()\n",
    "        break\n",
    "print('Accuracy of the network on the 10000 test images: %d %%' % (100 * correct / total))"
   ]
  },
  {
   "cell_type": "code",
   "execution_count": null,
   "metadata": {},
   "outputs": [],
   "source": [
    "class_total = list(0. for i in range(10))\n",
    "class_correct = list(0. for i in range(10))\n",
    "with torch.no_grad():\n",
    "    for data in testloader:\n",
    "        images, labels = data\n",
    "        images = images.to(device)\n",
    "        labels = labels.to(device)\n",
    "        outputs = net(images,log_softmax=True)\n",
    "        _, predicted = torch.max(outputs, 1)\n",
    "        c = (predicted == labels).squeeze()\n",
    "        for i in range(4):\n",
    "            label = labels[i]\n",
    "            class_correct[label] += c[i].item()\n",
    "            class_total[label] += 1\n",
    "        break\n",
    "\n",
    "for i in range(10):\n",
    "    try:\n",
    "        print('Accuracy of %5s : %2d %%' % (classes[i], 100 * class_correct[i] / class_total[i]))\n",
    "    except:\n",
    "         print('Accuracy of %5s : Not available' % (classes[i]))"
   ]
  },
  {
   "cell_type": "markdown",
   "metadata": {},
   "source": [
    "# Metropolis"
   ]
  },
  {
   "cell_type": "code",
   "execution_count": 2,
   "metadata": {},
   "outputs": [
    {
     "name": "stdout",
     "output_type": "stream",
     "text": [
      "Files already downloaded and verified\n",
      "Files already downloaded and verified\n"
     ]
    }
   ],
   "source": [
    "transform = transforms.Compose(\n",
    "    [transforms.ToTensor(),\n",
    "     transforms.Normalize((0.5, 0.5, 0.5), (0.5, 0.5, 0.5))])\n",
    "\n",
    "trainset = torchvision.datasets.CIFAR10(root='./data', train=True,\n",
    "                                        download=True, transform=transforms.ToTensor())\n",
    "trainloader = torch.utils.data.DataLoader(trainset, batch_size=2000,\n",
    "                                          shuffle=True, num_workers=0)\n",
    "\n",
    "testset = torchvision.datasets.CIFAR10(root='./data', train=False,\n",
    "                                       download=True, transform=transforms.ToTensor())\n",
    "testloader = torch.utils.data.DataLoader(testset, batch_size=1000,\n",
    "                                         shuffle=False, num_workers=0)\n",
    "\n",
    "classes = ('plane', 'car', 'bird', 'cat',\n",
    "           'deer', 'dog', 'frog', 'horse', 'ship', 'truck')"
   ]
  },
  {
   "cell_type": "code",
   "execution_count": 3,
   "metadata": {},
   "outputs": [
    {
     "name": "stdout",
     "output_type": "stream",
     "text": [
      "linear True\n",
      "Initial Loss 1.8617167472839355\n",
      "Iteration 20/100: 1.5s, Loss: -10.554211616516113, Minor Loss: False, Accepted: True, Current Acceptance Ratio: 25.0\n",
      "Iteration 40/100: 1.4s, Loss: -37.38550567626953, Minor Loss: False, Accepted: True, Current Acceptance Ratio: 40.0\n",
      "Iteration 60/100: 1.4s, Loss: -38.68013000488281, Minor Loss: False, Accepted: False, Current Acceptance Ratio: 43.333333333333336\n",
      "Iteration 80/100: 1.3s, Loss: -56.56797790527344, Minor Loss: False, Accepted: True, Current Acceptance Ratio: 42.5\n",
      "Iteration 100/100: 1.3s, Loss: -71.06990051269531, Minor Loss: False, Accepted: False, Current Acceptance Ratio: 43.0\n"
     ]
    }
   ],
   "source": [
    "model = PreResNet(depth=20)\n",
    "model = model.to(device)\n",
    "loss_fn = nn.NLLLoss(reduction='sum')\n",
    "m = Metropolis(model,next(iter(trainloader)),loss_fn,\n",
    "               stdev = 0.005, iterations = 100)\n",
    "history = m.run()"
   ]
  },
  {
   "cell_type": "code",
   "execution_count": 6,
   "metadata": {},
   "outputs": [
    {
     "data": {
      "image/png": "[encoded data removed]",
      "text/plain": [
       "<Figure size 432x288 with 1 Axes>"
      ]
     },
     "metadata": {},
     "output_type": "display_data"
    }
   ],
   "source": [
    "%matplotlib inline\n",
    "plt.figure()\n",
    "plt.grid()\n",
    "plt.plot(range(len(history['losses'])), history['losses'])\n",
    "plt.ylabel(\"Training Loss\")\n",
    "plt.xlabel(\"Iterations\")\n",
    "plt.show()"
   ]
  },
  {
   "cell_type": "code",
   "execution_count": 7,
   "metadata": {},
   "outputs": [
    {
     "name": "stdout",
     "output_type": "stream",
     "text": [
      "Accuracy of the network on the 10000 test images: 10 %\n"
     ]
    }
   ],
   "source": [
    "parameters_sets = history['model_parameters'][50::20]\n",
    "images,labels = next(iter(testloader))\n",
    "images,labels = images.to(device), labels.to(device)\n",
    "outputs = torch.zeros([1000,10]).to(device)\n",
    "for state_dict in parameters_sets:\n",
    "    state_dict_it = OrderedDict(state_dict)\n",
    "    model.load_state_dict(state_dict_it, strict=False)\n",
    "    with torch.no_grad():\n",
    "        outputs += model(images, log_softmax=True)\n",
    "outputs = outputs/len(parameters_sets)\n",
    "correct = 0\n",
    "total = 0\n",
    "_, predicted = torch.max(outputs.data, 1)\n",
    "total += labels.size(0)\n",
    "correct += (predicted == labels).sum().item()\n",
    "print('Accuracy of the network on the 10000 test images: %d %%' % (100 * correct / total))"
   ]
  },
  {
   "cell_type": "markdown",
   "metadata": {},
   "source": [
    "# Hamiltonian Monte Carlo"
   ]
  },
  {
   "cell_type": "markdown",
   "metadata": {},
   "source": [
    "<p>Our posterior distribution is: \\begin{equation} p(\\theta|D) \\propto exp(-U(\\theta)) \\end{equation}</p>\n",
    "<p>Our loss function will define the <strong>potential energy</strong> term: \\begin{equation} U = - \\sum_{x \\in D}log~p(x|\\theta) - log~p(\\theta) \\end{equation}</p>\n",
    "<p>We then include a method to sample from $\\theta$ in a Metropolis-Hasting framework:\n",
    "\\begin{equation} \\pi(\\theta, r) \\propto exp \\Big(-U(\\theta)-\\frac 12 r^T M^{-1} r\\Big) \\end{equation}</p>\n",
    "<p>This set of samples is generated from an Hamiltonian system with the introduction of momentum variables $r$ and \n",
    "$M$ is a mass matrix (often set to the indentity matrix) and together with $r$ defines the <strong>kinetic energy</strong> term</p>\n",
    "<p>The <strong>Hamiltonian function</strong> is then: \\begin{equation} H(\\theta) = U(\\theta) +\\frac 12 r^TM^{-1}r \\end{equation} </p>"
   ]
  },
  {
   "cell_type": "code",
   "execution_count": 2,
   "metadata": {},
   "outputs": [
    {
     "name": "stdout",
     "output_type": "stream",
     "text": [
      "Files already downloaded and verified\n",
      "Files already downloaded and verified\n"
     ]
    }
   ],
   "source": [
    "transform = transforms.Compose(\n",
    "    [transforms.ToTensor(),\n",
    "     transforms.Normalize((0.5, 0.5, 0.5), (0.5, 0.5, 0.5))])\n",
    "\n",
    "trainset = torchvision.datasets.CIFAR10(root='./data', train=True,\n",
    "                                        download=True, transform=transforms.ToTensor())\n",
    "trainloader = torch.utils.data.DataLoader(trainset, batch_size=2000,\n",
    "                                          shuffle=True, num_workers=0)\n",
    "\n",
    "testset = torchvision.datasets.CIFAR10(root='./data', train=False,\n",
    "                                       download=True, transform=transforms.ToTensor())\n",
    "testloader = torch.utils.data.DataLoader(testset, batch_size=1000,\n",
    "                                         shuffle=False, num_workers=0)\n",
    "\n",
    "classes = ('plane', 'car', 'bird', 'cat',\n",
    "           'deer', 'dog', 'frog', 'horse', 'ship', 'truck')"
   ]
  },
  {
   "cell_type": "code",
   "execution_count": null,
   "metadata": {},
   "outputs": [],
   "source": [
    "model = PreResNet(depth=20)\n",
    "model = model.to(device)\n",
    "loss_fn = nn.NLLLoss(reduction='sum')\n",
    "sghmc = HMC(model,trainloader,testloader,\n",
    "            loss_fn = loss_fn, iterations = 100)\n",
    "history = sghmc.run()"
   ]
  },
  {
   "cell_type": "markdown",
   "metadata": {},
   "source": [
    "# Stochastic Gradient Hamiltonian Monte Carlo"
   ]
  },
  {
   "cell_type": "markdown",
   "metadata": {},
   "source": [
    "<p>Instead of computing the costly gradient $\\nabla U(\\theta)$ on the entire dataset $D$, we consider a minibatch $\\tilde{D}$ sampled uniformly at random from $D$:\n",
    "    \\begin{equation} \\nabla \\tilde{U}(\\theta) = - \\frac{|D|}{|\\tilde{D}|} \\sum_{x \\in \\tilde{D}} \\nabla log~p(x|\\theta)-\\nabla log~p(\\theta), \\quad \\tilde{D} \\subset D\n",
    "    \\end{equation}</p>\n",
    "<p>This noisy gradient we assume that can be approximated with:\n",
    "    \\begin{equation} \\nabla \\tilde{U}(\\theta) ≈ \\nabla U(\\theta)+ N(0, V(\\theta)) \\end{equation}\n",
    "    with $V(\\theta)$ a covariance matrix depending on the model parameters. As $\\tilde{D}$ increases, for the central limit theorem this introduction of a Gaussian random variable become more accurate. Empirically a minibatch in othe order of hundreds of data points is sufficient for the central limit theorem to be accurate</p>"
   ]
  },
  {
   "cell_type": "code",
   "execution_count": 7,
   "metadata": {},
   "outputs": [
    {
     "name": "stdout",
     "output_type": "stream",
     "text": [
      "Files already downloaded and verified\n",
      "Files already downloaded and verified\n"
     ]
    }
   ],
   "source": [
    "transform = transforms.Compose(\n",
    "    [transforms.ToTensor(),\n",
    "     transforms.Normalize((0.5, 0.5, 0.5), (0.5, 0.5, 0.5))])\n",
    "\n",
    "trainset = torchvision.datasets.CIFAR10(root='./data', train=True,\n",
    "                                        download=True, transform=transforms.ToTensor())\n",
    "trainloader = torch.utils.data.DataLoader(trainset, batch_size=256,\n",
    "                                          shuffle=True, num_workers=2, pin_memory = True)\n",
    "\n",
    "testset = torchvision.datasets.CIFAR10(root='./data', train=False,\n",
    "                                       download=True, transform=transforms.ToTensor())\n",
    "testloader = torch.utils.data.DataLoader(testset, batch_size=10000,\n",
    "                                         shuffle=False, num_workers=2)\n",
    "\n",
    "classes = ('plane', 'car', 'bird', 'cat',\n",
    "           'deer', 'dog', 'frog', 'horse', 'ship', 'truck')"
   ]
  },
  {
   "cell_type": "code",
   "execution_count": null,
   "metadata": {},
   "outputs": [],
   "source": [
    "model = PreResNet(depth=20)\n",
    "model = model.to(device)\n",
    "loss_fn = torch.nn.NLLLoss(reduction='sum')\n",
    "lm = LossModule(model,trainloader, loss_fn,\n",
    "                temperature=1, scaling = None,non_curated = 0, \n",
    "                corruptFunction = corruptDataset.corruptCIFAR10Images, log_softmax = True)\n",
    "SGHMC = SGHMCSampler(lm, num_burn_in_steps=3000, lr = 0.008, keep_every=100)\n",
    "SGHMC.sample(trainloader, testloader, model, nsamples=100)\n",
    "sampled_weights = SGHMC.sampled_weights"
   ]
  },
  {
   "cell_type": "code",
   "execution_count": null,
   "metadata": {
    "_kg_hide-input": false
   },
   "outputs": [],
   "source": [
    "model = model.to(device)\n",
    "outputs = torch.zeros([10000,10]).to(device)\n",
    "images, labels = next(iter(testloader))\n",
    "images, labels = images.to(device), labels.to(device)\n",
    "for j,set_params in enumerate(sampled_weights):\n",
    "    state_dict = {}\n",
    "    for k,(name, param) in enumerate(model.named_parameters()):\n",
    "        state_dict[name] = torch.from_numpy(set_params[k])\n",
    "    state_dict_it = OrderedDict(state_dict)\n",
    "    model.load_state_dict(state_dict_it, strict=False)\n",
    "correct = 0\n",
    "total = 0\n",
    "with torch.no_grad():\n",
    "    outputs += model(images, log_softmax=True)\n",
    "outputs = outputs/len(sampled_weights)\n",
    "_, predicted = torch.max(outputs.data, 1)\n",
    "total += labels.size()[0]\n",
    "correct += (predicted == labels).sum().item()\n",
    "print('Accuracy of the network on the 10000 test images: %d %%' % (100 * correct / total))"
   ]
  }
 ],
 "metadata": {
  "kernelspec": {
   "display_name": "Python 3",
   "language": "python",
   "name": "python3"
  },
  "language_info": {
   "codemirror_mode": {
    "name": "ipython",
    "version": 3
   },
   "file_extension": ".py",
   "mimetype": "text/x-python",
   "name": "python",
   "nbconvert_exporter": "python",
   "pygments_lexer": "ipython3",
   "version": "3.5.2"
  }
 },
 "nbformat": 4,
 "nbformat_minor": 4
}
