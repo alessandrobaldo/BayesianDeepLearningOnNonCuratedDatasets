{
 "cells": [
  {
   "cell_type": "code",
   "execution_count": 1,
   "metadata": {},
   "outputs": [],
   "source": [
    "import pandas as pd\n",
    "from sklearn.model_selection import train_test_split\n",
    "from sklearn.preprocessing import MinMaxScaler, LabelEncoder\n",
    "from scripts.mcmc_samplers import SGHMCSampler,LossModule\n",
    "import scripts.corruptDataset\n",
    "import torch\n",
    "import torch.nn as nn\n",
    "import torch.nn.functional as F\n",
    "from scripts.linear import Linear\n",
    "import random\n",
    "import itertools\n",
    "import numpy as np\n",
    "from torch.utils.data import Dataset, DataLoader\n",
    "from torchvision import transforms, utils\n",
    "from collections import OrderedDict\n",
    "\n",
    "N_FEATURES = 58\n",
    "device = \"cuda:0\" if torch.cuda.is_available() else \"cpu\""
   ]
  },
  {
   "cell_type": "code",
   "execution_count": 2,
   "metadata": {},
   "outputs": [],
   "source": [
    "class OnlineNewsPopularityDataset(Dataset):\n",
    "    \"\"\"Online News Popularity dataset.\"\"\"\n",
    "\n",
    "    def __init__(self, csv_file, transform=None):\n",
    "        \"\"\"\n",
    "        Args:\n",
    "            csv_file (string): Path to the csv file with annotations.\n",
    "            root_dir (string): Directory with all the images.\n",
    "            transform (callable, optional): Optional transform to be applied\n",
    "                on a sample.\n",
    "        \"\"\"\n",
    "        self.df = pd.read_csv(csv_file, header = 0)\n",
    "        self.df.columns = self.df.columns.str.replace(' ', '') \n",
    "        self.X = self.df.drop(['url','timedelta','shares'],axis=1)\n",
    "        self.X = MinMaxScaler().fit(self.X).transform(self.X)\n",
    "        self.Y = self.df['shares']\n",
    "        self.Y = LabelEncoder().fit_transform(self.Y>=1400)\n",
    "        self.transform = transform\n",
    "\n",
    "    def __len__(self):\n",
    "        return len(self.df)\n",
    "\n",
    "    def __getitem__(self, idx):\n",
    "        if torch.is_tensor(idx):\n",
    "            print(idx)\n",
    "            idx = idx.tolist()\n",
    "        x,y = self.X[idx,:], self.Y[idx]\n",
    "        x,y = self.transform(x,y)\n",
    "        return (x,y)\n",
    "\n",
    "\n",
    "class ToTensor(object):\n",
    "    \"\"\"Convert ndarrays in sample to Tensors.\"\"\"\n",
    "    def __call__(self, x,y):\n",
    "        return torch.from_numpy(np.array(x)).type(torch.FloatTensor), torch.Tensor([y]).type(torch.LongTensor).squeeze()\n",
    "\n",
    "\n",
    "transform = ToTensor()\n",
    "dataset = OnlineNewsPopularityDataset('dataUCI/OnlineNewsPopularity.csv', transform = transform)\n",
    "lengths = [int(len(dataset)*0.8), len(dataset)-int(len(dataset)*0.8)]\n",
    "train_set, test_set = torch.utils.data.random_split(dataset, lengths)\n",
    "train_loader = DataLoader(train_set, batch_size=256,\n",
    "                        shuffle=True, num_workers=0)\n",
    "test_loader = DataLoader(test_set, batch_size=len(test_set),\n",
    "                        shuffle=False, num_workers=2)"
   ]
  },
  {
   "cell_type": "code",
   "execution_count": 3,
   "metadata": {},
   "outputs": [],
   "source": [
    "class ANNet(nn.Module):\n",
    "    def __init__(self, input_size):\n",
    "        super(ANNet, self).__init__()\n",
    "\n",
    "        self.inputLayer = Linear(input_size,64)\n",
    "        self.hiddenLayers = [Linear(64,128), Linear(128,256),Linear(256,64),Linear(64,16)]\n",
    "        self.outputLayer = Linear(16,2)\n",
    "        self.act = nn.ReLU()\n",
    "        self.dropout = nn.Dropout(0.2)\n",
    "    def forward(self, x):\n",
    "        x = self.inputLayer(x)\n",
    "        x = self.act(x)\n",
    "        x = self.dropout(x)\n",
    "        for hl in self.hiddenLayers:\n",
    "            x = hl(x)\n",
    "            x = self.act(x)\n",
    "        x = self.outputLayer(x)\n",
    "        x = F.log_softmax(x,dim=1)\n",
    "        return x"
   ]
  },
  {
   "cell_type": "code",
   "execution_count": null,
   "metadata": {},
   "outputs": [],
   "source": [
    "model = ANNet(input_size = N_FEATURES)\n",
    "loss_fn = torch.nn.NLLLoss(reduction='sum')\n",
    "lm = LossModule(model, train_loader, loss_fn,\n",
    "                temperature = 1, scaling = None, non_curated = 0, corruptFunction = corruptDataset.corruptONP)\n",
    "SGHMC = SGHMCSampler(lm, num_burn_in_steps=3000, lr = 0.005, keep_every=100)\n",
    "SGHMC.sample(train_loader, test_loader, model, nsamples=200)\n",
    "sampled_weights = SGHMC.sampled_weights"
   ]
  },
  {
   "cell_type": "code",
   "execution_count": null,
   "metadata": {},
   "outputs": [],
   "source": [
    "test_data, test_labels = next(iter(test_loader))\n",
    "outputs = torch.zeros([len(test_labels),2]).to(device)\n",
    "for i, set_params in enumerate(sampled_weights):       \n",
    "    state_dict = {}\n",
    "    for k,(name, param) in enumerate(model.named_parameters()):\n",
    "        state_dict[name] = torch.from_numpy(set_params[k])\n",
    "    state_dict_it = OrderedDict(state_dict)\n",
    "    model.load_state_dict(state_dict_it, strict=False)\n",
    "    with torch.no_grad():\n",
    "        outputs += model(test_data)\n",
    "\n",
    "correct = 0\n",
    "total = 0\n",
    "outputs = outputs/len(sampled_weights)\n",
    "_, predicted = torch.max(outputs.data, 1)\n",
    "total += test_labels.size()[0]\n",
    "correct += (predicted == test_labels).sum().item()\n",
    "accuracy = 100*correct/total\n",
    "print(accuracy)"
   ]
  },
  {
   "cell_type": "code",
   "execution_count": null,
   "metadata": {},
   "outputs": [],
   "source": []
  },
  {
   "cell_type": "code",
   "execution_count": null,
   "metadata": {},
   "outputs": [],
   "source": [
    "af = pd.read_csv('https://archive.ics.uci.edu/ml/machine-learning-databases/00291/',sep=',',names=names)')\n"
   ]
  }
 ],
 "metadata": {
  "kernelspec": {
   "display_name": "Python 3",
   "language": "python",
   "name": "python3"
  },
  "language_info": {
   "codemirror_mode": {
    "name": "ipython",
    "version": 3
   },
   "file_extension": ".py",
   "mimetype": "text/x-python",
   "name": "python",
   "nbconvert_exporter": "python",
   "pygments_lexer": "ipython3",
   "version": "3.5.2"
  }
 },
 "nbformat": 4,
 "nbformat_minor": 2
}
